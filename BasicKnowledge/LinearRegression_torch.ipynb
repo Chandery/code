{
 "cells": [
  {
   "cell_type": "code",
   "execution_count": 42,
   "metadata": {},
   "outputs": [],
   "source": [
    "import numpy as np\n",
    "import torch\n",
    "from torch.utils import data\n",
    "from d2l import torch as d2l\n",
    "\n",
    "true_w = torch.tensor([2, -3.4])\n",
    "true_b = 4.2\n",
    "\n",
    "features, labels = d2l.synthetic_data(true_w, true_b, 1000)"
   ]
  },
  {
   "cell_type": "code",
   "execution_count": 43,
   "metadata": {},
   "outputs": [
    {
     "data": {
      "text/plain": [
       "[tensor([[ 2.0454, -0.1679],\n",
       "         [ 0.7977, -0.6227],\n",
       "         [-0.0134,  0.1235],\n",
       "         [-0.6074,  0.3066],\n",
       "         [ 0.9584,  0.8380],\n",
       "         [ 1.4560,  0.1922],\n",
       "         [ 1.1154,  0.5291],\n",
       "         [-0.3961, -0.9004],\n",
       "         [ 0.4236,  0.9899],\n",
       "         [-0.0891,  0.3452]]),\n",
       " tensor([[8.8726],\n",
       "         [7.9182],\n",
       "         [3.7552],\n",
       "         [1.9382],\n",
       "         [3.2797],\n",
       "         [6.4558],\n",
       "         [4.6141],\n",
       "         [6.4804],\n",
       "         [1.6673],\n",
       "         [2.8440]])]"
      ]
     },
     "execution_count": 43,
     "metadata": {},
     "output_type": "execute_result"
    }
   ],
   "source": [
    "def load_array(data_arrays, batch_size, is_train=True):\n",
    "    \"\"\"构造一个PyTorch数据迭代器\"\"\"\n",
    "    dataset = data.TensorDataset(*data_arrays)\n",
    "    return data.DataLoader(dataset, batch_size, shuffle=is_train)\n",
    "\n",
    "batch_size = 10\n",
    "data_iter = load_array((features, labels), batch_size)\n",
    "\n",
    "next(iter(data_iter))"
   ]
  },
  {
   "cell_type": "code",
   "execution_count": 44,
   "metadata": {},
   "outputs": [],
   "source": [
    "## nn 是神经网络Neural Network的缩写\n",
    "from torch import nn\n",
    "\n",
    "net = nn.Sequential(nn.Linear(2, 1))  \n",
    "#Sequential本意顺序，表示一个有顺序的容器，可以理解成List of layers\n",
    "#Linear表示这一次的线性，参数是输入和输出，本例为两个输入一个输出"
   ]
  },
  {
   "cell_type": "code",
   "execution_count": 59,
   "metadata": {},
   "outputs": [
    {
     "data": {
      "text/plain": [
       "Parameter containing:\n",
       "tensor([[-0.0015, -0.0086]], requires_grad=True)"
      ]
     },
     "execution_count": 59,
     "metadata": {},
     "output_type": "execute_result"
    }
   ],
   "source": [
    "net[0].weight.data.normal_(0, 0.01)\n",
    "#自动地把之前定义地2——>1的输入输出维度给定义了，weight就是输入的权重，并且会自动生成输出\n",
    "net[0].bias.data.fill_(0)\n",
    "# bias 表示偏置\n",
    "\n",
    "net[0].weight"
   ]
  },
  {
   "cell_type": "code",
   "execution_count": 46,
   "metadata": {},
   "outputs": [],
   "source": [
    "#计算均方误差 MSELoss   Mean Squared error\n",
    "loss = nn.MSELoss()\n",
    "\n",
    "\n",
    "# 实例化 SGD 实现\n",
    "trainer = torch.optim.SGD(net.parameters(), lr = 0.03)"
   ]
  },
  {
   "cell_type": "code",
   "execution_count": 57,
   "metadata": {},
   "outputs": [
    {
     "name": "stdout",
     "output_type": "stream",
     "text": [
      "epoch 1, loss 0.000294\n",
      "epoch 2, loss 0.000100\n",
      "epoch 3, loss 0.000100\n"
     ]
    }
   ],
   "source": [
    "num_epochs = 3\n",
    "for epoch in range(num_epochs):\n",
    "    for X, y in data_iter:\n",
    "        l = loss(net(X), y)\n",
    "        trainer.zero_grad()\n",
    "        l.backward()\n",
    "        trainer.step()\n",
    "    l = loss(net(features), labels)\n",
    "    print(f'epoch {epoch+1}, loss {l:f}')"
   ]
  }
 ],
 "metadata": {
  "kernelspec": {
   "display_name": "mydL1",
   "language": "python",
   "name": "python3"
  },
  "language_info": {
   "codemirror_mode": {
    "name": "ipython",
    "version": 3
   },
   "file_extension": ".py",
   "mimetype": "text/x-python",
   "name": "python",
   "nbconvert_exporter": "python",
   "pygments_lexer": "ipython3",
   "version": "0.0.0"
  }
 },
 "nbformat": 4,
 "nbformat_minor": 2
}
