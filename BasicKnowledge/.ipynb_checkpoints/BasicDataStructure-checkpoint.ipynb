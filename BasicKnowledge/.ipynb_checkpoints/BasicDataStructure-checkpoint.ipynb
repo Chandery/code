{
 "cells": [
  {
   "cell_type": "code",
   "execution_count": 8,
   "metadata": {},
   "outputs": [
    {
     "name": "stdout",
     "output_type": "stream",
     "text": [
      "tensor([ 0,  1,  2,  3,  4,  5,  6,  7,  8,  9, 10, 11])\n",
      "torch.Size([12])\n",
      "12\n",
      "tensor([[ 0,  1,  2,  3],\n",
      "        [ 4,  5,  6,  7],\n",
      "        [ 8,  9, 10, 11]])\n"
     ]
    }
   ],
   "source": [
    "import torch\n",
    "\n",
    "#arange,shape,numel\n",
    "x = torch.arange(12)\n",
    "print(x)\n",
    "print(x.shape)  #shape\n",
    "print(x.numel())  #number of element\n",
    "X = x.reshape(3, 4)\n",
    "print(X)"
   ]
  },
  {
   "cell_type": "code",
   "execution_count": 9,
   "metadata": {},
   "outputs": [
    {
     "name": "stdout",
     "output_type": "stream",
     "text": [
      "tensor([[[0., 0., 0., 0.],\n",
      "         [0., 0., 0., 0.],\n",
      "         [0., 0., 0., 0.]],\n",
      "\n",
      "        [[0., 0., 0., 0.],\n",
      "         [0., 0., 0., 0.],\n",
      "         [0., 0., 0., 0.]]])\n",
      "tensor([[[1., 1., 1., 1.],\n",
      "         [1., 1., 1., 1.],\n",
      "         [1., 1., 1., 1.]],\n",
      "\n",
      "        [[1., 1., 1., 1.],\n",
      "         [1., 1., 1., 1.],\n",
      "         [1., 1., 1., 1.]]])\n",
      "torch.Size([1, 3, 4])\n"
     ]
    }
   ],
   "source": [
    "#zeros,ones,tensor\n",
    "a = torch.zeros((2, 3, 4))\n",
    "print(a)\n",
    "a = torch.ones((2, 3, 4))\n",
    "print(a)\n",
    "a = torch.tensor([[[2, 1, 4, 3], [1, 2, 3, 4], [4, 3, 2, 1]]])\n",
    "print(a.shape)"
   ]
  },
  {
   "cell_type": "code",
   "execution_count": 10,
   "metadata": {},
   "outputs": [
    {
     "name": "stdout",
     "output_type": "stream",
     "text": [
      "tensor([ 3.,  4.,  6., 10.])\n",
      "tensor([-1.,  0.,  2.,  6.])\n",
      "tensor([ 2.,  4.,  8., 16.])\n",
      "tensor([0.5000, 1.0000, 2.0000, 4.0000])\n",
      "tensor([ 1.,  4., 16., 64.])\n",
      "tensor([2.7183e+00, 7.3891e+00, 5.4598e+01, 2.9810e+03])\n"
     ]
    }
   ],
   "source": [
    "#calculate\n",
    "x = torch.tensor([1.0, 2, 4, 8])\n",
    "y = torch.tensor([2, 2, 2, 2])\n",
    "print(x + y)\n",
    "print(x - y)\n",
    "print(x * y)\n",
    "print(x / y)\n",
    "print(x**y)\n",
    "print(torch.exp(x))\n"
   ]
  },
  {
   "cell_type": "code",
   "execution_count": 11,
   "metadata": {},
   "outputs": [
    {
     "name": "stdout",
     "output_type": "stream",
     "text": [
      "tensor([[ 0.,  1.,  2.,  3.],\n",
      "        [ 4.,  5.,  6.,  7.],\n",
      "        [ 8.,  9., 10., 11.],\n",
      "        [ 2.,  1.,  4.,  3.],\n",
      "        [ 1.,  2.,  3.,  4.],\n",
      "        [ 4.,  3.,  2.,  1.]])\n",
      "tensor([[ 0.,  1.,  2.,  3.,  2.,  1.,  4.,  3.],\n",
      "        [ 4.,  5.,  6.,  7.,  1.,  2.,  3.,  4.],\n",
      "        [ 8.,  9., 10., 11.,  4.,  3.,  2.,  1.]])\n",
      "tensor([[False,  True, False,  True],\n",
      "        [False, False, False, False],\n",
      "        [False, False, False, False]])\n"
     ]
    }
   ],
   "source": [
    "#cat\n",
    "X = torch.arange(12, dtype=torch.float32).reshape((3, 4))\n",
    "Y = torch.tensor([[2.0, 1, 4, 3], [1, 2, 3, 4], [4, 3, 2, 1]])\n",
    "print(torch.cat((X, Y), dim=0))\n",
    "print(torch.cat((X, Y), dim=1))\n",
    "print(X == Y)"
   ]
  },
  {
   "cell_type": "code",
   "execution_count": 12,
   "metadata": {},
   "outputs": [
    {
     "name": "stdout",
     "output_type": "stream",
     "text": [
      "tensor([[[ 0.,  1.,  2.,  1.,  2.,  3.],\n",
      "         [ 3.,  4.,  5.,  1.,  2.,  3.]],\n",
      "\n",
      "        [[ 6.,  7.,  8.,  1.,  2.,  3.],\n",
      "         [ 9., 10., 11.,  1.,  2.,  3.]]])\n",
      "tensor(66.)\n"
     ]
    }
   ],
   "source": [
    "#cat dim=2\n",
    "X = torch.arange(12, dtype=torch.float32).reshape((2, 2, 3))\n",
    "Y = torch.tensor([[[1.0, 2, 3], [1, 2, 3]], [[1, 2, 3], [1, 2, 3]]])\n",
    "print(torch.cat((X, Y), dim=2))\n",
    "\n",
    "print(X.sum())"
   ]
  },
  {
   "cell_type": "code",
   "execution_count": 13,
   "metadata": {},
   "outputs": [
    {
     "name": "stdout",
     "output_type": "stream",
     "text": [
      "tensor([[0, 1],\n",
      "        [1, 2],\n",
      "        [2, 3]])\n"
     ]
    }
   ],
   "source": [
    "#broadcasting mechanism\n",
    "a = torch.arange(3).reshape((3, 1))  # broadcast to the whole roll\n",
    "b = torch.arange(2).reshape((1, 2))  # broadcase to the whole column\n",
    "print(a + b)"
   ]
  },
  {
   "cell_type": "code",
   "execution_count": 15,
   "metadata": {},
   "outputs": [
    {
     "name": "stdout",
     "output_type": "stream",
     "text": [
      "tensor([[ 6.,  7.,  8.],\n",
      "        [ 9., 10., 11.]])\n",
      "tensor([[[ 6.,  7.,  8.],\n",
      "         [ 9., 10., 11.]]])\n",
      "tensor(11.)\n",
      "tensor([[[12., 12., 12.],\n",
      "         [12., 12., 12.]],\n",
      "\n",
      "        [[12., 12., 12.],\n",
      "         [12., 12., 12.]]])\n"
     ]
    }
   ],
   "source": [
    "#visit\n",
    "X = torch.arange(12, dtype=torch.float32).reshape((2, 2, 3))\n",
    "print(X[-1])  #the last element\n",
    "print(X[1:3])  #the second and the third element\n",
    "print(X[1, 1, 2])  #index 1,1,2\n",
    "X[0:2, :] = 12  #area\n",
    "print(X)"
   ]
  },
  {
   "cell_type": "code",
   "execution_count": 16,
   "metadata": {},
   "outputs": [
    {
     "name": "stdout",
     "output_type": "stream",
     "text": [
      "False\n"
     ]
    }
   ],
   "source": [
    "#id -->\n",
    "before = id(Y)\n",
    "Y = Y + X\n",
    "# Y += X\n",
    "print(id(Y) == before)  #false   id changed"
   ]
  },
  {
   "cell_type": "code",
   "execution_count": 18,
   "metadata": {},
   "outputs": [
    {
     "name": "stdout",
     "output_type": "stream",
     "text": [
      "id(Z): 2657149550864\n",
      "id(Z): 2657149550864\n",
      "id(X): 2657149555664\n",
      "id(X): 2657149555664\n",
      "id(X): 2657149555664\n"
     ]
    }
   ],
   "source": [
    "#dont change id method\n",
    "Z = torch.zeros_like(Y)\n",
    "print(\"id(Z):\", id(Z))\n",
    "Z[:] = X + Y\n",
    "print(\"id(Z):\", id(Z))\n",
    "#or like\n",
    "\n",
    "print(\"id(X):\", id(X))\n",
    "X += Y\n",
    "print(\"id(X):\", id(X))\n",
    "X[:] = X + Y  #dont change id\n",
    "print(\"id(X):\", id(X))"
   ]
  },
  {
   "cell_type": "code",
   "execution_count": 20,
   "metadata": {},
   "outputs": [
    {
     "name": "stdout",
     "output_type": "stream",
     "text": [
      "<class 'numpy.ndarray'>\n",
      "<class 'torch.Tensor'>\n",
      "tensor([3.5000]) 3.5 3.5 3\n"
     ]
    }
   ],
   "source": [
    "#numpy transform\n",
    "A = X.numpy()\n",
    "B = torch.tensor(A)\n",
    "print(type(A))\n",
    "print(type(B))\n",
    "\n",
    "a = torch.tensor([3.5])\n",
    "print(a, a.item(), float(a), int(a)) "
   ]
  }
 ],
 "metadata": {
  "kernelspec": {
   "display_name": "Python 3 (ipykernel)",
   "language": "python",
   "name": "python3"
  },
  "language_info": {
   "codemirror_mode": {
    "name": "ipython",
    "version": 3
   },
   "file_extension": ".py",
   "mimetype": "text/x-python",
   "name": "python",
   "nbconvert_exporter": "python",
   "pygments_lexer": "ipython3",
   "version": "3.11.5"
  }
 },
 "nbformat": 4,
 "nbformat_minor": 2
}
