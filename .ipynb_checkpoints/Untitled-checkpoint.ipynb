{
 "cells": [
  {
   "cell_type": "code",
   "execution_count": null,
   "metadata": {},
   "outputs": [],
   "source": []
  },
  {
   "cell_type": "code",
   "execution_count": 2,
   "id": "4522a5d2",
   "metadata": {},
   "outputs": [
    {
     "ename": "TypeError",
     "evalue": "arange(): argument 'end' (position 1) must be Number, not list",
     "output_type": "error",
     "traceback": [
      "\u001b[1;31m---------------------------------------------------------------------------\u001b[0m",
      "\u001b[1;31mTypeError\u001b[0m                                 Traceback (most recent call last)",
      "\u001b[1;32mg:\\myDeepLearning\\code\\.ipynb_checkpoints\\Untitled-checkpoint.ipynb 单元格 2\u001b[0m line \u001b[0;36m3\n\u001b[0;32m      <a href='vscode-notebook-cell:/g%3A/myDeepLearning/code/.ipynb_checkpoints/Untitled-checkpoint.ipynb#W1sZmlsZQ%3D%3D?line=0'>1</a>\u001b[0m \u001b[39mimport\u001b[39;00m \u001b[39mtorch\u001b[39;00m\n\u001b[1;32m----> <a href='vscode-notebook-cell:/g%3A/myDeepLearning/code/.ipynb_checkpoints/Untitled-checkpoint.ipynb#W1sZmlsZQ%3D%3D?line=2'>3</a>\u001b[0m X\u001b[39m=\u001b[39mtorch\u001b[39m.\u001b[39;49marange([\u001b[39m1\u001b[39;49m,\u001b[39m3\u001b[39;49m])\n\u001b[0;32m      <a href='vscode-notebook-cell:/g%3A/myDeepLearning/code/.ipynb_checkpoints/Untitled-checkpoint.ipynb#W1sZmlsZQ%3D%3D?line=3'>4</a>\u001b[0m X\u001b[39m+\u001b[39m\u001b[39m=\u001b[39m\u001b[39m1\u001b[39m\n\u001b[0;32m      <a href='vscode-notebook-cell:/g%3A/myDeepLearning/code/.ipynb_checkpoints/Untitled-checkpoint.ipynb#W1sZmlsZQ%3D%3D?line=4'>5</a>\u001b[0m X\n",
      "\u001b[1;31mTypeError\u001b[0m: arange(): argument 'end' (position 1) must be Number, not list"
     ]
    }
   ],
   "source": [
    "import torch\n",
    "\n",
    "X=torch.tensor([1,3])\n",
    "X+=1\n",
    "X"
   ]
  }
 ],
 "metadata": {
  "kernelspec": {
   "display_name": "mydL1",
   "language": "python",
   "name": "python3"
  },
  "language_info": {
   "codemirror_mode": {
    "name": "ipython",
    "version": 3
   },
   "file_extension": ".py",
   "mimetype": "text/x-python",
   "name": "python",
   "nbconvert_exporter": "python",
   "pygments_lexer": "ipython3",
   "version": "3.11.5"
  }
 },
 "nbformat": 4,
 "nbformat_minor": 5
}
